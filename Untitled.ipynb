{
 "cells": [
  {
   "cell_type": "code",
   "execution_count": null,
   "id": "cd96f5c9-9404-4f40-a774-4674b0ee063d",
   "metadata": {},
   "outputs": [],
   "source": []
  }
 ],
 "metadata": {
  "kernelspec": {
   "display_name": "",
   "name": ""
  },
  "language_info": {
   "name": ""
  }
 },
 "nbformat": 4,
 "nbformat_minor": 5
}
